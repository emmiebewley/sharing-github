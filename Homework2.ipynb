{
 "cells": [
  {
   "cell_type": "markdown",
   "metadata": {},
   "source": [
    "Before you turn this problem in, make sure everything runs as expected. First, **restart the kernel** (in the menubar, select Kernel$\\rightarrow$Restart) and then **run all cells** (in the menubar, select Cell$\\rightarrow$Run All).\n",
    "\n",
    "Make sure you fill in any place that says `YOUR CODE HERE` or \"YOUR ANSWER HERE\", as well as your name and University of Bristol ID:"
   ]
  },
  {
   "cell_type": "code",
   "execution_count": 1,
   "metadata": {},
   "outputs": [],
   "source": [
    "NAME = \"Emmie Bewley\"\n",
    "UoB_ID = \"tp18016\"\n",
    "\n",
    "I like cats \n",
    "\n"
   ]
  },
  {
   "cell_type": "markdown",
   "metadata": {},
   "source": [
    "---"
   ]
  },
  {
   "cell_type": "markdown",
   "metadata": {
    "deletable": false,
    "editable": false,
    "nbgrader": {
     "cell_type": "markdown",
     "checksum": "940dc2a20995b66db68ec404fca51385",
     "grade": false,
     "grade_id": "title",
     "locked": true,
     "schema_version": 3,
     "solution": false,
     "task": false
    }
   },
   "source": [
    "# Homework 2\n",
    "\n",
    "In this homework, you will be working with functions."
   ]
  },
  {
   "cell_type": "markdown",
   "metadata": {
    "deletable": false,
    "editable": false,
    "nbgrader": {
     "cell_type": "markdown",
     "checksum": "4d5845e074e2c6972047a9332440de37",
     "grade": false,
     "grade_id": "q1",
     "locked": true,
     "schema_version": 3,
     "solution": false,
     "task": false
    }
   },
   "source": [
    "## Question 1\n",
    "The sine of a number can be represented by the following infinite series:\n",
    "\\begin{equation}\n",
    "\\sin(x) = \\sum_{n=0}^{\\infty} \\frac{(-1)^n x^{2n+1}}{(2n+1)!} \\end{equation}\n",
    "Your task will be to write a program to compute the sine using this series, but we will proceed in steps.\n",
    "\n",
    "**Note of caution (just in case)**: There are hidden checks in this notebook that will return a grade 0 when testing your function if you just wrap the math sin(x) function."
   ]
  },
  {
   "cell_type": "markdown",
   "metadata": {
    "deletable": false,
    "editable": false,
    "nbgrader": {
     "cell_type": "markdown",
     "checksum": "a40ce6e13b2b24365e49dc99dd7e6efd",
     "grade": false,
     "grade_id": "q11",
     "locked": true,
     "schema_version": 3,
     "solution": false,
     "task": false
    }
   },
   "source": [
    "### 1. Write a function that computes the factorial $(2n+1)!$\n",
    "As a reminder, $(2n+1)! = (2n+1)(2n)(2n-1)\\cdots 2 \\cdot 1$.\n",
    "As in the tutorial, you function needs to pass the following check: If you give it invalid input like a negative $n$, it needs to stop and return the phrase `Error: negative number!`."
   ]
  },
  {
   "cell_type": "code",
   "execution_count": 2,
   "metadata": {
    "deletable": false,
    "nbgrader": {
     "cell_type": "code",
     "checksum": "5088f42d5fe3c13699ee85630bce5aab",
     "grade": false,
     "grade_id": "factorial",
     "locked": false,
     "schema_version": 3,
     "solution": true,
     "task": false
    }
   },
   "outputs": [],
   "source": [
    "# MANDATORY: Your function needs to be called factorial2(n)\n",
    "# and return the value of the factorial\n",
    "\n",
    "# YOUR CODE HERE\n",
    "def factorial(n):\n",
    "    a=1\n",
    "    for i in range(1,n+1):\n",
    "        a=a*i\n",
    "    return a\n",
    "\n",
    "def factorial2(n):\n",
    "    if n<0:\n",
    "        return \"Error: negative number\"\n",
    "    else:\n",
    "        c=factorial((2*n)+1)\n",
    "        return c\n"
   ]
  },
  {
   "cell_type": "code",
   "execution_count": 3,
   "metadata": {
    "deletable": false,
    "editable": false,
    "nbgrader": {
     "cell_type": "code",
     "checksum": "d8d3a708e758c429b67515b27b84caf8",
     "grade": true,
     "grade_id": "factorial_test",
     "locked": true,
     "points": 1,
     "schema_version": 3,
     "solution": false,
     "task": false
    }
   },
   "outputs": [],
   "source": [
    "assert factorial2(0) == 1\n",
    "assert factorial2(1) == 6\n",
    "assert factorial2(-1) == 'Error: negative number'"
   ]
  },
  {
   "cell_type": "markdown",
   "metadata": {
    "deletable": false,
    "editable": false,
    "nbgrader": {
     "cell_type": "markdown",
     "checksum": "f486f047de25deb92e2e5ddbf9ea5790",
     "grade": false,
     "grade_id": "q12",
     "locked": true,
     "schema_version": 3,
     "solution": false,
     "task": false
    }
   },
   "source": [
    "### 2. Now, using your factorial function, write a function for the sine series\n",
    "\n",
    "In a first instance, limit your series to the first $N=10$ terms only (note: it's not a problem if it is the first 11 terms and similar off-by-one issues).\n",
    "This result is of course not very accurate yet, and the graded test below takes this into account."
   ]
  },
  {
   "cell_type": "code",
   "execution_count": 4,
   "metadata": {
    "deletable": false,
    "nbgrader": {
     "cell_type": "code",
     "checksum": "6367b5e21a66bad9fb9224127c5e5d6c",
     "grade": false,
     "grade_id": "sineseries1",
     "locked": false,
     "schema_version": 3,
     "solution": true,
     "task": false
    }
   },
   "outputs": [
    {
     "data": {
      "text/plain": [
       "0.0"
      ]
     },
     "execution_count": 4,
     "metadata": {},
     "output_type": "execute_result"
    }
   ],
   "source": [
    "# MANDATORY: Your function needs to be calles sineseries1(x)\n",
    "# and return the estimated value of sin(x) at x\n",
    "\n",
    "# YOUR CODE HERE\n",
    "\n",
    "def sineseries1(x):\n",
    "    N=10\n",
    "    total=0\n",
    "    for i in range(0,N+1):\n",
    "        total=total+((-1)**i)*x**(2*i+1)/factorial2(i)\n",
    "    return total\n",
    "sineseries1(0)"
   ]
  },
  {
   "cell_type": "code",
   "execution_count": 34,
   "metadata": {
    "deletable": false,
    "editable": false,
    "nbgrader": {
     "cell_type": "code",
     "checksum": "953b8bc5b26bf2cd42ea1ae04a1b2597",
     "grade": true,
     "grade_id": "sineseries1_test",
     "locked": true,
     "points": 2,
     "schema_version": 3,
     "solution": false,
     "task": false
    }
   },
   "outputs": [],
   "source": [
    "# Testing the series using the math sine function\n",
    "from math import *\n",
    "\n",
    "assert sineseries1(0) == 0\n",
    "assert abs(sineseries1(pi/2) - sin(pi/2))<1e-10\n",
    "# it does get progressively worse at convergence\n",
    "assert abs(sineseries1(2*pi) - sin(2*pi))<1e-2\n"
   ]
  },
  {
   "cell_type": "markdown",
   "metadata": {
    "deletable": false,
    "editable": false,
    "nbgrader": {
     "cell_type": "markdown",
     "checksum": "cc728ff40bb91de40d9e13d8e89f435d",
     "grade": false,
     "grade_id": "q13",
     "locked": true,
     "schema_version": 3,
     "solution": false,
     "task": false
    }
   },
   "source": [
    "### 3. We can remedy this using a couple of interventions:\n",
    "- Use a larger $N=50$. Note that for $N>50$ or so, the values of the factorial function will stop becoming accurate. Python is already kindly creating integers with more than $64$ bits on its own here.\n",
    "- The convergence of this series slows down dramatically for larger absolute values of $x$ (and so does computational accuracy). Use the property $\\sin(x + 2 m\\pi) = \\sin(x)$ for integer $m$ to reduce the absolute value of $x$."
   ]
  },
  {
   "cell_type": "code",
   "execution_count": 35,
   "metadata": {
    "deletable": false,
    "nbgrader": {
     "cell_type": "code",
     "checksum": "de41b98216b981f9cb9f1b4b46a4466a",
     "grade": false,
     "grade_id": "sineseries2",
     "locked": false,
     "schema_version": 3,
     "solution": true,
     "task": false
    }
   },
   "outputs": [],
   "source": [
    "# MANDATORY: Your function needs to be calles sineseries2(x)\n",
    "# and return the estimated value of sin(x) at x\n",
    "\n",
    "# YOUR CODE HERE\n",
    "def mysine(x,N):\n",
    "    total=0\n",
    "    for i in range(0,N+1):\n",
    "        total=total+((-1)**i)*x**(2*i+1)/factorial2(i)\n",
    "    return total\n",
    "\n",
    "\n",
    "def smaller(x):\n",
    "    while x>2*pi:\n",
    "        x=x-2*pi\n",
    "    return x\n",
    "\n",
    "def sineseries2(x):\n",
    "    if x>2*pi:\n",
    "        return mysine(smaller(x),50)\n",
    "    else:\n",
    "        return mysine(x,50)\n",
    "    \n",
    "        \n",
    "        \n",
    "    \n",
    "\n"
   ]
  },
  {
   "cell_type": "code",
   "execution_count": 36,
   "metadata": {
    "deletable": false,
    "editable": false,
    "nbgrader": {
     "cell_type": "code",
     "checksum": "cb3252f651997bb31f6dc7f28c85d60a",
     "grade": true,
     "grade_id": "sineseries2_test",
     "locked": true,
     "points": 1,
     "schema_version": 3,
     "solution": false,
     "task": false
    }
   },
   "outputs": [],
   "source": [
    "# Testing the series again\n",
    "\n",
    "assert sineseries2(0) == 0\n",
    "assert abs(sineseries2(pi/2) - sin(pi/2))<1e-12\n",
    "assert abs(sineseries2(2*pi) - sin(2*pi))<1e-12\n"
   ]
  },
  {
   "cell_type": "code",
   "execution_count": 37,
   "metadata": {
    "deletable": false,
    "editable": false,
    "nbgrader": {
     "cell_type": "code",
     "checksum": "86cdfdf22ae2d7ab2dc99935718480d7",
     "grade": true,
     "grade_id": "sineseries2_test2",
     "locked": true,
     "points": 1,
     "schema_version": 3,
     "solution": false,
     "task": false
    }
   },
   "outputs": [],
   "source": [
    "# Additional tests your function should pass (including some hidden ones)\n",
    "assert abs(sineseries2(5*pi) - sin(5*pi))<1e-12\n"
   ]
  },
  {
   "cell_type": "markdown",
   "metadata": {
    "deletable": false,
    "editable": false,
    "nbgrader": {
     "cell_type": "markdown",
     "checksum": "cf5c8b005a23031f6e46a42d5436d648",
     "grade": false,
     "grade_id": "q2",
     "locked": true,
     "schema_version": 3,
     "solution": false,
     "task": false
    }
   },
   "source": [
    "## Question 2\n",
    "We have spent some time writing root finding algorithms in one dimension. Here is a more realistic application of the methods we have seen. We would like to solve the polynomial equation\n",
    "\\begin{equation} x^4 -2 x^2 + \\frac{1}{2}x + \\frac{1}{4} = 0. \\end{equation}\n",
    "Use the bisection algorithm to find all the roots of this equation.\n",
    "\n",
    "**To start with, here is a plot of the function:**"
   ]
  },
  {
   "cell_type": "code",
   "execution_count": 38,
   "metadata": {},
   "outputs": [
    {
     "data": {
      "text/plain": [
       "(-1.5, 2)"
      ]
     },
     "execution_count": 38,
     "metadata": {},
     "output_type": "execute_result"
    },
    {
     "data": {
      "image/png": "[encoded data removed]",
      "text/plain": [
       "<Figure size 432x288 with 1 Axes>"
      ]
     },
     "metadata": {
      "needs_background": "light"
     },
     "output_type": "display_data"
    }
   ],
   "source": [
    "def polyfunc(x):\n",
    "    return x**4 - 2*x**2 + 0.5*x +0.25\n",
    "\n",
    "import numpy as np\n",
    "import matplotlib.pyplot as plt\n",
    "\n",
    "xval = np.linspace(-2,2,300)\n",
    "yval = polyfunc(xval)\n",
    "plt.figure()\n",
    "plt.plot(xval,yval)\n",
    "plt.plot(xval,0*xval,'r')\n",
    "plt.ylim(-1.5,2)"
   ]
  },
  {
   "cell_type": "markdown",
   "metadata": {
    "deletable": false,
    "editable": false,
    "nbgrader": {
     "cell_type": "markdown",
     "checksum": "d7afc6af1548df6cf7b18684f5894b05",
     "grade": false,
     "grade_id": "q21",
     "locked": true,
     "schema_version": 3,
     "solution": false,
     "task": false
    }
   },
   "source": [
    "### Step 1: Write a bisection root finding function for the polynomial above\n",
    "Your function needs to take as arguments a bracket for the root, and a tolerance for the solution. Your function needs to give as result the value of the root if there is one, or the string `no root` if there is not one.\n",
    "\n",
    "Please call your function `bisect_polynomial(a,b,tolerance)` so that the checks all work out."
   ]
  },
  {
   "cell_type": "code",
   "execution_count": 39,
   "metadata": {
    "deletable": false,
    "nbgrader": {
     "cell_type": "code",
     "checksum": "eaf4b05fa5f20891e237a9c8c2727d2a",
     "grade": false,
     "grade_id": "roots",
     "locked": false,
     "schema_version": 3,
     "solution": true,
     "task": false
    }
   },
   "outputs": [
    {
     "data": {
      "text/plain": [
       "0.5611034015776357"
      ]
     },
     "execution_count": 39,
     "metadata": {},
     "output_type": "execute_result"
    }
   ],
   "source": [
    "# Your code here\n",
    "\n",
    "# YOUR CODE HERE\n",
    "def bisect_polynomial(a,b,tolerance):\n",
    "    if polyfunc(a)*polyfunc(b)<0:\n",
    "        if polyfunc(b)>0:\n",
    "            e=abs(b-a)\n",
    "            while e>tolerance:\n",
    "                m=(b+a)/2\n",
    "                if polyfunc(m)>0:\n",
    "                    a,b=a,m\n",
    "                    e=b-a\n",
    "                else:\n",
    "                    a,b=m,b\n",
    "                    e=b-a\n",
    "            return (b+a)/2\n",
    "        else:                   #we have that f(b) is negative\n",
    "            e=abs(b-a)\n",
    "            while e>tolerance:\n",
    "                m=(b+a)/2\n",
    "                if polyfunc(m)<0:\n",
    "                    a,b=a,m\n",
    "                    e=b-a\n",
    "                else:\n",
    "                    a,b=m,b\n",
    "                    e=b-a\n",
    "            return (b+a)/2\n",
    "    else:\n",
    "        return \"no root\"\n",
    "\n",
    "bisect_polynomial(0,1,1e-15)\n"
   ]
  },
  {
   "cell_type": "code",
   "execution_count": 40,
   "metadata": {
    "deletable": false,
    "editable": false,
    "nbgrader": {
     "cell_type": "code",
     "checksum": "1364dc689ac2377a8299e9dafb54eba5",
     "grade": true,
     "grade_id": "bisect_test1",
     "locked": true,
     "points": 1,
     "schema_version": 3,
     "solution": false,
     "task": false
    }
   },
   "outputs": [],
   "source": [
    "# First check if your function works, part of the test is hidden\n",
    "assert bisect_polynomial(-2,-1.5,1e-10) == 'no root'\n",
    "assert abs(bisect_polynomial(-2,-1,1e-4) + 1.49)<1e-2\n"
   ]
  },
  {
   "cell_type": "markdown",
   "metadata": {
    "deletable": false,
    "editable": false,
    "nbgrader": {
     "cell_type": "markdown",
     "checksum": "fefc1a063f38c776df37b91e5180a9c2",
     "grade": false,
     "grade_id": "q22",
     "locked": true,
     "schema_version": 3,
     "solution": false,
     "task": false
    }
   },
   "source": [
    "### Step 2. Now find all roots of the equation\n",
    "Please label them from smallest to largest as `root1`,`root2`, etc for the checks below to work correctly. Work to the best precision (smallest tolerance) that your code is able to, and **do not round the answers**."
   ]
  },
  {
   "cell_type": "code",
   "execution_count": 45,
   "metadata": {
    "deletable": false,
    "nbgrader": {
     "cell_type": "code",
     "checksum": "40b8b198d0961003ba91cc2ec0c9862e",
     "grade": false,
     "grade_id": "compute_roots",
     "locked": false,
     "schema_version": 3,
     "solution": true,
     "task": false
    }
   },
   "outputs": [],
   "source": [
    "# Please find the roots here.\n",
    "root1=bisect_polynomial(-2,-1,1e-15)\n",
    "root2=bisect_polynomial(-1,5,1e-15)\n",
    "root3=bisect_polynomial(0,1,1e-15)\n",
    "root4=bisect_polynomial(1,2,1e-15)\n",
    "# YOUR CODE HERE\n",
    "\n"
   ]
  },
  {
   "cell_type": "code",
   "execution_count": 46,
   "metadata": {
    "deletable": false,
    "editable": false,
    "nbgrader": {
     "cell_type": "code",
     "checksum": "eb78d509d5b63958d8792dbd56c90da0",
     "grade": true,
     "grade_id": "test_root1",
     "locked": true,
     "points": 1,
     "schema_version": 3,
     "solution": false,
     "task": false
    }
   },
   "outputs": [],
   "source": [
    "# we are testing root1 here, part of the test is hidden\n",
    "assert abs(root1 + 1.49)<1e-2\n"
   ]
  },
  {
   "cell_type": "code",
   "execution_count": 47,
   "metadata": {
    "deletable": false,
    "editable": false,
    "nbgrader": {
     "cell_type": "code",
     "checksum": "7394754fb6bea738743329afdbec7655",
     "grade": true,
     "grade_id": "test_root2",
     "locked": true,
     "points": 1,
     "schema_version": 3,
     "solution": false,
     "task": false
    }
   },
   "outputs": [],
   "source": [
    "# we are testing root2 here, part of the test is hidden\n",
    "assert abs(root2 + 0.25)<1e-2\n"
   ]
  },
  {
   "cell_type": "code",
   "execution_count": 44,
   "metadata": {
    "deletable": false,
    "editable": false,
    "nbgrader": {
     "cell_type": "code",
     "checksum": "2ce733865640e038a2605d24e4f2c727",
     "grade": true,
     "grade_id": "test_more_roots",
     "locked": true,
     "points": 2,
     "schema_version": 3,
     "solution": false,
     "task": false
    }
   },
   "outputs": [],
   "source": [
    "# There are more hidden tests here\n"
   ]
  },
  {
   "cell_type": "code",
   "execution_count": null,
   "metadata": {},
   "outputs": [],
   "source": []
  },
  {
   "cell_type": "code",
   "execution_count": null,
   "metadata": {},
   "outputs": [],
   "source": []
  }
 ],
 "metadata": {
  "kernelspec": {
   "display_name": "Python 3",
   "language": "python",
   "name": "python3"
  },
  "language_info": {
   "codemirror_mode": {
    "name": "ipython",
    "version": 3
   },
   "file_extension": ".py",
   "mimetype": "text/x-python",
   "name": "python",
   "nbconvert_exporter": "python",
   "pygments_lexer": "ipython3",
   "version": "3.7.4"
  }
 },
 "nbformat": 4,
 "nbformat_minor": 2
}
